{
 "cells": [
  {
   "cell_type": "code",
   "execution_count": 1,
   "id": "637a3b20-5657-4514-a07b-b1b2e8e8bc68",
   "metadata": {},
   "outputs": [],
   "source": [
    "import pandas as pd\n",
    "from pathlib import Path"
   ]
  },
  {
   "cell_type": "code",
   "execution_count": 2,
   "id": "dd787e00-7e0f-4f75-8a9c-6e49aafb4adc",
   "metadata": {},
   "outputs": [],
   "source": [
    "df = pd.read_csv(Path(r\"../data/blue_waters_posix_with_paths_no_negative_outliers_no_time_witherrors.csv\"))"
   ]
  },
  {
   "cell_type": "code",
   "execution_count": 3,
   "id": "c5283f72-c612-4ee7-80ea-a879d0ec5ff8",
   "metadata": {},
   "outputs": [
    {
     "data": {
      "text/plain": [
       "np.float64(0.1444847151285186)"
      ]
     },
     "execution_count": 3,
     "metadata": {},
     "output_type": "execute_result"
    }
   ],
   "source": [
    "mae = (df['error'].abs() / df['mean']).median()\n",
    "mae"
   ]
  },
  {
   "cell_type": "code",
   "execution_count": null,
   "id": "925149eb-6fd9-43ef-9c13-aee5157f2f8e",
   "metadata": {},
   "outputs": [],
   "source": []
  }
 ],
 "metadata": {
  "kernelspec": {
   "display_name": "Python 3 (ipykernel)",
   "language": "python",
   "name": "python3"
  },
  "language_info": {
   "codemirror_mode": {
    "name": "ipython",
    "version": 3
   },
   "file_extension": ".py",
   "mimetype": "text/x-python",
   "name": "python",
   "nbconvert_exporter": "python",
   "pygments_lexer": "ipython3",
   "version": "3.13.3"
  }
 },
 "nbformat": 4,
 "nbformat_minor": 5
}
