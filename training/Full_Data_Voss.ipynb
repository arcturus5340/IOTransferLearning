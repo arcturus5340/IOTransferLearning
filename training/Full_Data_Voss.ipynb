{
 "cells": [
  {
   "cell_type": "code",
   "execution_count": null,
   "id": "e272d050-0827-462a-9563-6346768e9a3e",
   "metadata": {},
   "outputs": [],
   "source": [
    "import random\n",
    "import pandas as pd\n",
    "import numpy as np\n",
    "from pathlib import Path\n",
    "\n",
    "from sklearn.model_selection import train_test_split\n",
    "from sklearn.preprocessing import RobustScaler\n",
    "from sklearn.utils import resample\n",
    "from sklearn import cluster\n",
    "from sklearn.ensemble import IsolationForest\n",
    "from sklearn.neighbors import LocalOutlierFactor\n",
    "\n",
    "import torch.nn as nn\n",
    "import torch.optim as optim\n",
    "from torch.utils.data import TensorDataset, DataLoader, random_split, WeightedRandomSampler\n",
    "import torch\n",
    "\n",
    "from wquantiles import quantile_1D\n",
    "\n",
    "import pdb\n",
    "\n",
    "import pickle\n",
    "\n",
    "class ConfigStruct:\n",
    "    def __init__(self, **entries):\n",
    "        self.__dict__.update(entries)"
   ]
  },
  {
   "cell_type": "code",
   "execution_count": null,
   "id": "308216f0-f15b-4699-96c6-3e9cf056eca9",
   "metadata": {},
   "outputs": [],
   "source": [
    "device = \"cuda\" if torch.cuda.is_available() else \"cpu\"\n",
    "print(f\"Using {device}\")"
   ]
  },
  {
   "cell_type": "code",
   "execution_count": null,
   "id": "94d264ef-62d6-408a-8614-34dbc02cb5ab",
   "metadata": {},
   "outputs": [],
   "source": [
    "config = dict(\n",
    "    epochs=100,\n",
    "    batch_size=256, #2048\n",
    "    learning_rate=0.008, #0.008\n",
    "    weight_decay=1e-5,\n",
    "    dropout=0.05,\n",
    "    shuffle=True,\n",
    "    test_size=0.2,\n",
    "    split_seed=42,\n",
    "    random_seed=1234,\n",
    "    top10_apps_filter=False,\n",
    "    only_duplicates=False,\n",
    "    meancount75_filter=False,\n",
    "    isolation_forest_train=False,\n",
    "    isolation_forest_val=False,\n",
    "    isolation_forest_test=False,\n",
    "    feature_agglomeration=True,\n",
    "    feature_agglomeration_nclusters=64,\n",
    "    stratified_split=False,\n",
    "    smooth_l1_loss_beta=1\n",
    ")"
   ]
  },
  {
   "cell_type": "code",
   "execution_count": null,
   "id": "be7011d2-1752-4532-9736-b178fddfe88b",
   "metadata": {},
   "outputs": [],
   "source": [
    "config = ConfigStruct(**config)"
   ]
  },
  {
   "cell_type": "code",
   "execution_count": null,
   "id": "d14590c1-e238-4b6f-af9b-769c7d055db3",
   "metadata": {},
   "outputs": [],
   "source": [
    "config_string = \"no_nwchem_no_IQR_robust_scaler_agglo_clustering_64_features_batchsize_256_layers_512-256-128\"\n",
    "\n",
    "MODEL_FILENAME = \"Small_net_\" + config_string\n",
    "MODEL_DIR = r\"../models/\"\n",
    "MODEL_PATH = Path(MODEL_DIR, MODEL_FILENAME).with_suffix(\".tar\")\n",
    "\n",
    "DATASET_DIR = r\"../data/\"\n",
    "DATASET_NAME = \"theta_posix_withapps_no_negative_outliers_no_mira_no_time_witherrors\"\n",
    "DATASET_PATH = Path(DATASET_DIR, DATASET_NAME).with_suffix(\".csv\")\n",
    "\n",
    "PICKLE_DIR = r\"/home/rwth1591/transfer-learning/theta/pickle\"\n",
    "FEATUREAGGLO_NAME = r\"theta_featureagglomeration_\" + config_string\n",
    "FEATUREAGGLO_PATH = Path(PICKLE_DIR, FEATUREAGGLO_NAME).with_suffix(\".pkl\")\n",
    "ROBUSTSCALER_NAME = r\"theta_robustscaler_\" + config_string\n",
    "ROBUSTSCALER_PATH = Path(PICKLE_DIR, ROBUSTSCALER_NAME).with_suffix(\".pkl\")\n",
    "ISOLATIONFOREST_NAME = r\"theta_isolationforest_\" + config_string\n",
    "ISOLATIONFOREST_PATH = Path(PICKLE_DIR, ISOLATIONFOREST_NAME).with_suffix(\".pkl\")\n",
    "\n",
    "INTERPRETABILITY_DIR = r\"../interpretability/captum\"\n",
    "\n",
    "CSV_LOG_PATH = \"Train_Full_Dataset_Voss_Model_D_test_loss.csv\""
   ]
  },
  {
   "cell_type": "code",
   "execution_count": null,
   "id": "904ccb4f-9a73-4ff7-b9e4-de95ed11f451",
   "metadata": {},
   "outputs": [],
   "source": [
    "if not os.path.exists(CSV_LOG_PATH):\n",
    "    with open(CSV_LOG_PATH, mode='w', newline='') as file:\n",
    "        writer = csv.writer(file)\n",
    "        writer.writerow([\"epoch\", \"test_loss\"])"
   ]
  },
  {
   "cell_type": "code",
   "execution_count": null,
   "id": "8b8d6b78-908a-41bb-9a5b-0ba735b95839",
   "metadata": {},
   "outputs": [],
   "source": [
    "# Load the data\n",
    "df_blue_waters_posix = pd.read_csv(DATASET_PATH)\n",
    "df_blue_waters_posix.pop(\"path\")\n",
    "df_blue_waters_posix.head()"
   ]
  },
  {
   "cell_type": "code",
   "execution_count": null,
   "id": "2be5f27b-c3b9-4163-8492-d3e2ec38fc73",
   "metadata": {},
   "outputs": [],
   "source": [
    "filter_spec = (df_blue_waters_posix.exe.str.strip().isin([\"nwchem\", \"./nwchem\"]))  # | (df_blue_waters_posix.POSIX_TOTAL_TIME >= 1e8)\n",
    "df_blue_waters_posix_nospec = df_blue_waters_posix[filter_spec == False]\n",
    "df_blue_waters_posix_nospec.shape"
   ]
  },
  {
   "cell_type": "code",
   "execution_count": null,
   "id": "4a4467a8-b33d-4dda-82ef-e1be0aa95d7d",
   "metadata": {},
   "outputs": [],
   "source": []
  },
  {
   "cell_type": "code",
   "execution_count": null,
   "id": "86f0a127-5c22-4bb3-ad1d-bb0ae5690d21",
   "metadata": {},
   "outputs": [],
   "source": []
  },
  {
   "cell_type": "code",
   "execution_count": null,
   "id": "fe8b89de-1276-45bb-b008-046231c7c767",
   "metadata": {},
   "outputs": [],
   "source": []
  },
  {
   "cell_type": "code",
   "execution_count": null,
   "id": "d1ca571c-b6b2-409c-8525-88cb37ba5056",
   "metadata": {},
   "outputs": [],
   "source": []
  },
  {
   "cell_type": "code",
   "execution_count": null,
   "id": "51e8d6f2-908b-4f9b-9111-f6d427d563f5",
   "metadata": {},
   "outputs": [],
   "source": []
  },
  {
   "cell_type": "code",
   "execution_count": null,
   "id": "274fb50b-b8f7-4118-a6d3-5a8e5daf7a75",
   "metadata": {},
   "outputs": [],
   "source": []
  },
  {
   "cell_type": "code",
   "execution_count": null,
   "id": "955f60e9-2a81-4b01-ba01-c1afda573ec6",
   "metadata": {},
   "outputs": [],
   "source": []
  },
  {
   "cell_type": "code",
   "execution_count": null,
   "id": "132ce3d4-709d-48d3-9291-b7d4a16bc506",
   "metadata": {},
   "outputs": [],
   "source": []
  },
  {
   "cell_type": "code",
   "execution_count": null,
   "id": "b3321d44-e864-41d5-9c25-9b41126c3c4e",
   "metadata": {},
   "outputs": [],
   "source": []
  },
  {
   "cell_type": "code",
   "execution_count": null,
   "id": "378e3765-298a-40d7-b534-b2bce0083374",
   "metadata": {},
   "outputs": [],
   "source": []
  },
  {
   "cell_type": "code",
   "execution_count": null,
   "id": "5e279c59-01e4-40a7-8eef-0038826ecce0",
   "metadata": {},
   "outputs": [],
   "source": []
  },
  {
   "cell_type": "code",
   "execution_count": null,
   "id": "bae5ff5d-6e4c-4f63-9b25-6385b5ded89f",
   "metadata": {},
   "outputs": [],
   "source": []
  },
  {
   "cell_type": "code",
   "execution_count": null,
   "id": "3b269e0e-bd63-415e-9bb1-12dda9aaf7a8",
   "metadata": {},
   "outputs": [],
   "source": []
  }
 ],
 "metadata": {
  "kernelspec": {
   "display_name": "Python 3 (ipykernel)",
   "language": "python",
   "name": "python3"
  },
  "language_info": {
   "codemirror_mode": {
    "name": "ipython",
    "version": 3
   },
   "file_extension": ".py",
   "mimetype": "text/x-python",
   "name": "python",
   "nbconvert_exporter": "python",
   "pygments_lexer": "ipython3",
   "version": "3.13.3"
  }
 },
 "nbformat": 4,
 "nbformat_minor": 5
}
