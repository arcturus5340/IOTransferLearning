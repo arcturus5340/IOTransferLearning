{
 "cells": [
  {
   "cell_type": "code",
   "execution_count": null,
   "id": "49f917b6-c821-4f1f-a066-977d46c3f161",
   "metadata": {},
   "outputs": [],
   "source": [
    "import random\n",
    "import pandas as pd\n",
    "import numpy as np\n",
    "from pathlib import Path\n",
    "\n",
    "from sklearn.preprocessing import RobustScaler\n",
    "from sklearn.utils import resample\n",
    "from sklearn import cluster\n",
    "from sklearn.ensemble import IsolationForest\n",
    "\n",
    "import torch.nn as nn\n",
    "import torch.optim as optim\n",
    "from torch.utils.data import TensorDataset, DataLoader\n",
    "import torch\n",
    "\n",
    "from wquantiles import quantile_1D\n",
    "\n",
    "import pickle\n",
    "\n",
    "import pdb\n",
    "\n",
    "class ConfigStruct:\n",
    "    def __init__(self, **entries):\n",
    "        self.__dict__.update(entries)"
   ]
  },
  {
   "cell_type": "code",
   "execution_count": null,
   "id": "4f9be272-87e0-4e2f-a385-dc58a6c63975",
   "metadata": {},
   "outputs": [],
   "source": [
    "device = \"cuda\" if torch.cuda.is_available() else \"cpu\"\n",
    "print(f\"Using {device}\")"
   ]
  },
  {
   "cell_type": "code",
   "execution_count": null,
   "id": "9734f687-b81e-421b-8abd-72200bc75872",
   "metadata": {},
   "outputs": [],
   "source": [
    "config = dict(\n",
    "    epochs=100,\n",
    "    batch_size=256, #2048\n",
    "    learning_rate=0.008, #0.008\n",
    "    weight_decay=1e-5,\n",
    "    dropout=0.05,\n",
    "    shuffle=True,\n",
    "    test_size=0.2,\n",
    "    split_seed=42,\n",
    "    random_seed=1234,\n",
    "    top10_apps_filter=False,\n",
    "    only_duplicates=False,\n",
    "    meancount75_filter=False,\n",
    "    starttime_filter=False,\n",
    "    isolation_forest_test=False,\n",
    "    feature_agglomeration=True,\n",
    "    feature_agglomeration_nclusters=64,\n",
    "    stratified_split=False,\n",
    "    smooth_l1_loss_beta=1\n",
    ")"
   ]
  },
  {
   "cell_type": "code",
   "execution_count": null,
   "id": "1a4ddc87-055a-4fde-915b-59f075100e03",
   "metadata": {},
   "outputs": [],
   "source": [
    "config = ConfigStruct(**config)"
   ]
  },
  {
   "cell_type": "code",
   "execution_count": null,
   "id": "f60bc8b3-2cbd-4944-b2c2-5513e4938e43",
   "metadata": {},
   "outputs": [],
   "source": [
    "config_string = \"SpEC_sampling_no_IQR_robust_scaler_agglo_clustering_64_features_batchsize_256_layers_512-256-128\"\n",
    "\n",
    "ARTIFACTS_DIR = r\"/home/av639747/Dokumente/masterarbeit/2024_ma_voss_transfer_learning/artifacts/\"\n",
    "\n",
    "MODEL_FILENAME = \"Small_net_\" + config_string\n",
    "MODEL_DIR = rf\"/home/rwth1591/transfer-learning/blue_waters/models-test\"\n",
    "MODEL_PATH = Path(MODEL_DIR, MODEL_FILENAME).with_suffix(\".tar\")\n",
    "\n",
    "DATASET_DIR = r\"/home/rwth1591/transfer-learning/theta/data/\"\n",
    "DATASET_NAME = \"theta_posix_withapps_no_negative_outliers_no_mira_no_time_witherrors\"\n",
    "DATASET_PATH = Path(DATASET_DIR, DATASET_NAME).with_suffix(\".csv\")\n",
    "\n",
    "PICKLE_DIR = r\"/home/rwth1591/transfer-learning/blue_waters/pickle\"\n",
    "FEATUREAGGLO_NAME = r\"blue_waters_featureagglomeration_\" + config_string\n",
    "FEATUREAGGLO_PATH = Path(PICKLE_DIR, FEATUREAGGLO_NAME).with_suffix(\".pkl\")\n",
    "ROBUSTSCALER_NAME = r\"blue_waters_robustscaler_\" + config_string\n",
    "ROBUSTSCALER_PATH = Path(PICKLE_DIR, ROBUSTSCALER_NAME).with_suffix(\".pkl\")\n",
    "ISOLATIONFOREST_NAME = r\"blue_waters_isolationforest_\" + config_string\n",
    "ISOLATIONFOREST_PATH = Path(PICKLE_DIR, ISOLATIONFOREST_NAME).with_suffix(\".pkl\")"
   ]
  },
  {
   "cell_type": "code",
   "execution_count": null,
   "id": "538868d6-e88a-42f4-a618-7b1f217f68a8",
   "metadata": {},
   "outputs": [],
   "source": [
    "# Load the data\n",
    "    df_theta_posix = pd.read_csv(DATASET_PATH)"
   ]
  },
  {
   "cell_type": "code",
   "execution_count": null,
   "id": "c8912218-2ef9-4906-ba38-691cf3498d19",
   "metadata": {},
   "outputs": [],
   "source": [
    "if config.only_duplicates:\n",
    "    df_theta_posix = df_theta_posix[df_theta_posix[\"mean\"].isna() == False]"
   ]
  },
  {
   "cell_type": "code",
   "execution_count": null,
   "id": "b7cc46e4-3267-459e-a600-3f70b72addfd",
   "metadata": {},
   "outputs": [],
   "source": [
    "if config.top10_apps_filter:\n",
    "    apps_count_series = df_theta_posix.groupby(by=[\"app\"]).count()[\"nprocs\"].sort_values(ascending=False)\n",
    "    df_theta_posix = df_theta_posix[df_theta_posix.app.isin(apps_count_series[0:10].index)]"
   ]
  },
  {
   "cell_type": "code",
   "execution_count": null,
   "id": "b2e1038b-39c9-4167-8d95-a6c0a9f2cb07",
   "metadata": {},
   "outputs": [],
   "source": [
    "if config.starttime_filter:\n",
    "    df_theta_posix = df_theta_posix[df_theta_posix.start_time_sec < df_theta_posix.start_time_sec.quantile(0.25)]\n",
    "    df_theta_posix = df_theta_posix.drop([\"start_time_sec\"],axis=1)"
   ]
  },
  {
   "cell_type": "code",
   "execution_count": null,
   "id": "eaa2d5bb-04c3-440d-b9bd-753c7e99c3cc",
   "metadata": {},
   "outputs": [],
   "source": [
    "if config.meancount75_filter:\n",
    "    mean_counts = df_theta_posix.groupby(\"mean\",dropna=False)[\"mean\"].transform(\"count\")\n",
    "    mean_counts_quantile = pd.Series(mean_counts.unique()).quantile(0.75)\n",
    "    df_theta_posix = df_theta_posix[df_theta_posix.index.isin(mean_counts[mean_counts > mean_counts_quantile].index)]"
   ]
  },
  {
   "cell_type": "code",
   "execution_count": null,
   "id": "c3f8f10d-3b98-498f-b5ca-0b7d4dbaf91f",
   "metadata": {},
   "outputs": [],
   "source": [
    "# Drop column with application names\n",
    "df_theta_posix = df_theta_posix.drop(['app','index','lustre'],axis=1)"
   ]
  },
  {
   "cell_type": "code",
   "execution_count": null,
   "id": "adb8670e-bce7-4901-86bd-433594453d5b",
   "metadata": {},
   "outputs": [],
   "source": [
    "# Separate bandwidth from input features\n",
    "POSIX_TOTAL_TIME_df = df_theta_posix.pop('POSIX_TOTAL_TIME')"
   ]
  },
  {
   "cell_type": "code",
   "execution_count": null,
   "id": "48cd18c5-5ed5-4cdf-ad17-dbab03b4c9e7",
   "metadata": {},
   "outputs": [],
   "source": [
    "# Separate duplicate set mean from input features and drop errors\n",
    "dup_set_means_series = df_theta_posix.pop('mean')\n",
    "df_theta_posix = df_theta_posix.drop([\"error\"],axis=1)"
   ]
  },
  {
   "cell_type": "code",
   "execution_count": null,
   "id": "fdf74caf-4f56-44a4-9519-1b82f3974364",
   "metadata": {},
   "outputs": [],
   "source": [
    "# Fix seeds for reproducibility\n",
    "random.seed(config.random_seed)\n",
    "np.random.seed(config.random_seed)\n",
    "\n",
    "torch.manual_seed(config.random_seed)\n",
    "torch.cuda.manual_seed_all(config.random_seed)\n",
    "\n",
    "torch.backends.cudnn.deterministic = True\n",
    "torch.backends.cudnn.benchmark = False"
   ]
  },
  {
   "cell_type": "code",
   "execution_count": null,
   "id": "77866a7c-8381-4a4c-b123-0869cd747cb1",
   "metadata": {},
   "outputs": [],
   "source": [
    "with open(ISOLATIONFOREST_PATH,'rb') as f:\n",
    "    clf = pickle.load(f)\n",
    "outlier_labels = pd.Series(clf.fit_predict(df_theta_posix))"
   ]
  },
  {
   "cell_type": "code",
   "execution_count": null,
   "id": "cede3e6c-8ae8-4600-b742-0c70814a9e9f",
   "metadata": {},
   "outputs": [],
   "source": [
    "if config.isolation_forest_test:\n",
    "    df_theta_posix = df_theta_posix.reset_index()[outlier_labels == 1].drop([\"index\"],axis=1)\n",
    "    POSIX_TOTAL_TIME_df = POSIX_TOTAL_TIME_df.reset_index()[outlier_labels == 1].drop([\"index\"],axis=1)\n",
    "    dup_set_means_series = dup_set_means_series.reset_index()[outlier_labels == 1].drop([\"index\"],axis=1)"
   ]
  },
  {
   "cell_type": "code",
   "execution_count": null,
   "id": "4ac6df4e-348a-40d8-bc1e-08de7f092229",
   "metadata": {},
   "outputs": [],
   "source": [
    "with open(FEATUREAGGLO_PATH,'rb') as f:\n",
    "    agglo = pickle.load(f)\n",
    "if config.feature_agglomeration:\n",
    "    theta_posix = agglo.transform(df_theta_posix)"
   ]
  },
  {
   "cell_type": "code",
   "execution_count": null,
   "id": "3331b401-0ec5-4b2a-be63-e4d354f86152",
   "metadata": {},
   "outputs": [],
   "source": [
    "# Scale the input features\n",
    "with open(ROBUSTSCALER_PATH,'rb') as f:\n",
    "    scaler = pickle.load(f)\n",
    "theta_posix_scaled = scaler.transform(theta_posix)"
   ]
  },
  {
   "cell_type": "code",
   "execution_count": null,
   "id": "cf9beca9-eb12-46aa-88e4-8e956852c6af",
   "metadata": {},
   "outputs": [],
   "source": [
    "tensor_X = torch.Tensor(theta_posix_scaled).to(device)\n",
    "tensor_y = torch.Tensor(POSIX_TOTAL_TIME_df.values).view(-1, 1).to(device)"
   ]
  },
  {
   "cell_type": "code",
   "execution_count": null,
   "id": "35aaab1d-109d-405e-827f-d53b4419ca96",
   "metadata": {},
   "outputs": [],
   "source": [
    "test_dataset = TensorDataset(tensor_X, tensor_y)\n",
    "test_dataloader = DataLoader(test_dataset, batch_size=config.batch_size)"
   ]
  },
  {
   "cell_type": "code",
   "execution_count": null,
   "id": "a943f890-5303-43b5-a4b0-8ef06570a2fd",
   "metadata": {},
   "outputs": [],
   "source": [
    "model = nn.Sequential(\n",
    "    nn.Linear(config.feature_agglomeration_nclusters if config.feature_agglomeration else 89, 512, 512),\n",
    "    nn.Dropout(p=config.dropout),\n",
    "    nn.ReLU(),\n",
    "    nn.Linear(512, 256),\n",
    "    nn.Dropout(p=config.dropout),\n",
    "    nn.ReLU(),\n",
    "    nn.Linear(256, 128),\n",
    "    nn.Dropout(p=config.dropout),\n",
    "    nn.ReLU(),\n",
    "    nn.Linear(128, 1),\n",
    ").to(device)"
   ]
  },
  {
   "cell_type": "code",
   "execution_count": null,
   "id": "9907bab1-0730-4a9e-b3a6-7bc0b60bce69",
   "metadata": {},
   "outputs": [],
   "source": [
    "checkpoint = torch.load(MODEL_PATH, map_location=torch.device(device))\n",
    "model.load_state_dict(checkpoint['model_state_dict'])\n",
    "model.eval()"
   ]
  },
  {
   "cell_type": "code",
   "execution_count": null,
   "id": "6ca57cfe-fb19-4876-aa66-23fd85fdc942",
   "metadata": {},
   "outputs": [],
   "source": [
    "loss_fn = nn.SmoothL1Loss(beta=config.smooth_l1_loss_beta, reduction=\"sum\").to(device)"
   ]
  },
  {
   "cell_type": "code",
   "execution_count": null,
   "id": "39011997-ecae-4ec3-b778-f1c0688bb421",
   "metadata": {},
   "outputs": [],
   "source": [
    "test_output_tensor = torch.Tensor([]).to(device)\n",
    "test_loss = 0\n",
    "with torch.no_grad():\n",
    "    for X,y in test_dataloader:\n",
    "        output = model(X)\n",
    "        output_as_tensor = torch.Tensor(output).to(device)\n",
    "        test_output_tensor = torch.cat((test_output_tensor,output_as_tensor))\n",
    "        test_loss += loss_fn(output, y).item()\n",
    "test_loss /= len(test_dataloader.dataset)\n",
    "print(f\"Avg loss: {test_loss:>8f} \\n\")"
   ]
  },
  {
   "cell_type": "code",
   "execution_count": null,
   "id": "cf514019-55c4-4327-bae8-f32508f4b1b8",
   "metadata": {},
   "outputs": [],
   "source": [
    "# Save results to CSV for further analysis, reload dataset because it has been transformed and scaled\n",
    "df_theta_posix_withresults = pd.read_csv(DATASET_PATH)\n",
    "df_theta_posix_withresults[\"POSIX_TOTAL_TIME_predicted\"] = pd.Series(test_output_tensor.cpu().numpy()[:,0])\n",
    "df_theta_posix_withresults.to_csv(Path(ARTIFACTS_DIR,DATASET_NAME + \"_withresults\").with_suffix(\".csv\"))"
   ]
  },
  {
   "cell_type": "code",
   "execution_count": null,
   "id": "0ccec453-1658-431a-a07d-ee202a2b0758",
   "metadata": {},
   "outputs": [],
   "source": [
    "test_output_df = pd.DataFrame(test_output_tensor.cpu().numpy())\n",
    "abs_errors = (test_output_df[0] - dup_set_means_series.fillna(0).reset_index()[\"mean\"]).abs()"
   ]
  },
  {
   "cell_type": "code",
   "execution_count": null,
   "id": "dd4f78d7-9d94-4619-b455-a1cce909d61f",
   "metadata": {},
   "outputs": [],
   "source": [
    "# Division result will be NaN where the mean is NaN because the set has no duplicates. Median ignores NaN"
   ]
  },
  {
   "cell_type": "code",
   "execution_count": null,
   "id": "bc7283df-fdb2-4a32-a3b7-f3f95dc60eeb",
   "metadata": {},
   "outputs": [],
   "source": [
    "abs_errors_percent = (abs_errors / dup_set_means_series.reset_index()[\"mean\"])\n",
    "mae = abs_errors_percent.median()\n",
    "print(f\"MAE: {mae}\")"
   ]
  },
  {
   "cell_type": "code",
   "execution_count": null,
   "id": "dd9e2a65-9389-4e4e-b86b-6e81c699fd74",
   "metadata": {},
   "outputs": [],
   "source": [
    "dup_set_means_df = pd.DataFrame(dup_set_means_series)\n",
    "mean_counts_test = dup_set_means_df.groupby(\"mean\",dropna=False)[\"mean\"].transform(\"count\")\n",
    "mean_counts_test.loc[mean_counts_test == 0] = 1\n",
    "weights_test = 1 / mean_counts_test\n",
    "weights_test.loc[mean_counts_test < 1] = weights_test.loc[mean_counts_test < 1]   \n",
    "weights_test_nona = weights_test.reset_index()[abs_errors_percent.isna() == False].drop([\"index\"],axis=1)[\"mean\"]\n",
    "weights_test_nona_normalized = weights_test_nona / weights_test_nona.sum()\n",
    "weighted_mae = quantile_1D(abs_errors_percent[abs_errors_percent.isna() == False].to_numpy().T,weights_test_nona_normalized.to_numpy().T,0.5)\n",
    "print(f\"Weighted MAE: {weighted_mae}\")\n",
    "test_outliers = len(outlier_labels[(outlier_labels == -1) & (dup_set_means_series.reset_index()[\"mean\"].notnull())])\n",
    "print(f\"Outliers in test set that are considered in MAE computation: {test_outliers}\")\n",
    "print(f\"Feature Agglomeration clusters: {agglo.labels_}\")"
   ]
  }
 ],
 "metadata": {
  "kernelspec": {
   "display_name": "Python 3 (ipykernel)",
   "language": "python",
   "name": "python3"
  },
  "language_info": {
   "codemirror_mode": {
    "name": "ipython",
    "version": 3
   },
   "file_extension": ".py",
   "mimetype": "text/x-python",
   "name": "python",
   "nbconvert_exporter": "python",
   "pygments_lexer": "ipython3",
   "version": "3.13.3"
  }
 },
 "nbformat": 4,
 "nbformat_minor": 5
}
