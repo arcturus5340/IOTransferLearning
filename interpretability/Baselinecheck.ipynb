{
 "cells": [
  {
   "cell_type": "code",
   "execution_count": 1,
   "id": "3213ad4f-3c0b-4f02-9e4d-a897d40d2c37",
   "metadata": {},
   "outputs": [],
   "source": [
    "import torch.nn as nn\n",
    "import torch\n",
    "from pathlib import Path"
   ]
  },
  {
   "cell_type": "code",
   "execution_count": 2,
   "id": "5054eb2f-169d-429d-b2b2-1c4a56d05122",
   "metadata": {},
   "outputs": [
    {
     "name": "stdout",
     "output_type": "stream",
     "text": [
      "Using cuda device\n"
     ]
    }
   ],
   "source": [
    "device = (\n",
    "    \"cuda\"\n",
    "    if torch.cuda.is_available()\n",
    "    else \"mps\"\n",
    "    if torch.backends.mps.is_available()\n",
    "    else \"cpu\"\n",
    ")\n",
    "print(f\"Using {device} device\")"
   ]
  },
  {
   "cell_type": "code",
   "execution_count": 3,
   "id": "39b5274d-d17e-421f-999f-9094645058b3",
   "metadata": {},
   "outputs": [],
   "source": [
    "MODEL_FILENAME = \"Model_D.pth\"\n",
    "MODEL_DIR = r\"../models\"\n",
    "MODEL_PATH = Path(MODEL_DIR, MODEL_FILENAME)"
   ]
  },
  {
   "cell_type": "code",
   "execution_count": 4,
   "id": "7f7ec8ae-01cb-4673-bba8-d5363f1f8194",
   "metadata": {},
   "outputs": [],
   "source": [
    "dropout=0.05\n",
    "\n",
    "model = nn.Sequential(\n",
    "    nn.Linear(89, 512),\n",
    "    nn.Dropout(p=dropout),\n",
    "    nn.ReLU(),\n",
    "    nn.Linear(512, 256),\n",
    "    nn.Dropout(p=dropout),\n",
    "    nn.ReLU(),\n",
    "    nn.Linear(256, 128),\n",
    "    nn.Dropout(p=dropout),\n",
    "    nn.ReLU(),\n",
    "    nn.Linear(128, 1),\n",
    ").to(device)"
   ]
  },
  {
   "cell_type": "code",
   "execution_count": 5,
   "id": "81b1202e-5fd7-40c8-be3b-d0a799e19313",
   "metadata": {},
   "outputs": [
    {
     "data": {
      "text/plain": [
       "Sequential(\n",
       "  (0): Linear(in_features=89, out_features=512, bias=True)\n",
       "  (1): Dropout(p=0.05, inplace=False)\n",
       "  (2): ReLU()\n",
       "  (3): Linear(in_features=512, out_features=256, bias=True)\n",
       "  (4): Dropout(p=0.05, inplace=False)\n",
       "  (5): ReLU()\n",
       "  (6): Linear(in_features=256, out_features=128, bias=True)\n",
       "  (7): Dropout(p=0.05, inplace=False)\n",
       "  (8): ReLU()\n",
       "  (9): Linear(in_features=128, out_features=1, bias=True)\n",
       ")"
      ]
     },
     "execution_count": 5,
     "metadata": {},
     "output_type": "execute_result"
    }
   ],
   "source": [
    "checkpoint = torch.load(MODEL_PATH, map_location=torch.device(device))\n",
    "model.load_state_dict(checkpoint['model_state_dict'])\n",
    "model.eval()"
   ]
  },
  {
   "cell_type": "code",
   "execution_count": 6,
   "id": "6cf744e4-e61c-48a5-8e6b-587ce6f76b8b",
   "metadata": {},
   "outputs": [
    {
     "name": "stdout",
     "output_type": "stream",
     "text": [
      "tensor([[0.8811]], device='cuda:0')\n"
     ]
    }
   ],
   "source": [
    "with torch.no_grad():\n",
    "    baseline = torch.zeros([1, 89], device=device)\n",
    "    pred = model(baseline)\n",
    "    print(pred)"
   ]
  },
  {
   "cell_type": "code",
   "execution_count": 7,
   "id": "60e9b2e8-d1ee-4029-a54b-a7c2c40bca5e",
   "metadata": {},
   "outputs": [],
   "source": [
    "MODEL_FILENAME = \"Model_D_(finetuned).pth\"\n",
    "MODEL_DIR = r\"../models/\"\n",
    "MODEL_PATH = Path(MODEL_DIR, MODEL_FILENAME)"
   ]
  },
  {
   "cell_type": "code",
   "execution_count": 8,
   "id": "1ba96101-5798-4163-86a5-43c77934443f",
   "metadata": {},
   "outputs": [],
   "source": [
    "model = nn.Sequential(\n",
    "    nn.Linear(89, 512),\n",
    "    nn.Dropout(p=dropout),\n",
    "    nn.ReLU(),\n",
    "    nn.Linear(512, 256),\n",
    "    nn.Dropout(p=dropout),\n",
    "    nn.ReLU(),\n",
    "    nn.Linear(256, 128),\n",
    "    nn.Dropout(p=dropout),\n",
    "    nn.ReLU(),\n",
    "    nn.Linear(128, 1),\n",
    ").to(device)"
   ]
  },
  {
   "cell_type": "code",
   "execution_count": 9,
   "id": "0edfabca-aa27-46c7-bb1a-f52718b31e68",
   "metadata": {},
   "outputs": [
    {
     "data": {
      "text/plain": [
       "Sequential(\n",
       "  (0): Linear(in_features=89, out_features=512, bias=True)\n",
       "  (1): Dropout(p=0.05, inplace=False)\n",
       "  (2): ReLU()\n",
       "  (3): Linear(in_features=512, out_features=256, bias=True)\n",
       "  (4): Dropout(p=0.05, inplace=False)\n",
       "  (5): ReLU()\n",
       "  (6): Linear(in_features=256, out_features=128, bias=True)\n",
       "  (7): Dropout(p=0.05, inplace=False)\n",
       "  (8): ReLU()\n",
       "  (9): Linear(in_features=128, out_features=1, bias=True)\n",
       ")"
      ]
     },
     "execution_count": 9,
     "metadata": {},
     "output_type": "execute_result"
    }
   ],
   "source": [
    "checkpoint = torch.load(MODEL_PATH, map_location=torch.device(device))\n",
    "model.load_state_dict(checkpoint['model_state_dict'])\n",
    "model.eval()"
   ]
  },
  {
   "cell_type": "code",
   "execution_count": 10,
   "id": "f45c05a1-2c94-472d-b90a-a877998222ca",
   "metadata": {},
   "outputs": [
    {
     "name": "stdout",
     "output_type": "stream",
     "text": [
      "tensor([[12.2331]], device='cuda:0')\n"
     ]
    }
   ],
   "source": [
    "with torch.no_grad():\n",
    "    baseline = torch.zeros([1, 89], device=device)\n",
    "    pred = model(baseline)\n",
    "    print(pred)"
   ]
  },
  {
   "cell_type": "code",
   "execution_count": null,
   "id": "229287a7-9447-4636-b39a-77222b039e15",
   "metadata": {},
   "outputs": [],
   "source": []
  }
 ],
 "metadata": {
  "kernelspec": {
   "display_name": "Python (venv)",
   "language": "python",
   "name": "venv"
  },
  "language_info": {
   "codemirror_mode": {
    "name": "ipython",
    "version": 3
   },
   "file_extension": ".py",
   "mimetype": "text/x-python",
   "name": "python",
   "nbconvert_exporter": "python",
   "pygments_lexer": "ipython3",
   "version": "3.10.18"
  }
 },
 "nbformat": 4,
 "nbformat_minor": 5
}
